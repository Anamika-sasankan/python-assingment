{
  "nbformat": 4,
  "nbformat_minor": 0,
  "metadata": {
    "colab": {
      "provenance": []
    },
    "kernelspec": {
      "name": "python3",
      "display_name": "Python 3"
    },
    "language_info": {
      "name": "python"
    }
  },
  "cells": [
    {
      "cell_type": "code",
      "source": [
        "#Store the prices of items in a dictionary\n",
        "price={\"apple\":10,\"milk\":42,\"bread\":30,\"book\":35,\"pencil\":12,\"pen\":18}\n",
        "item_purchased = input('enter the item(comma-separated): ').split(',')\n",
        "total_bill=0\n",
        "for item in item_purchased:\n",
        "  if item in price:\n",
        "    quantity = int(input(f\"enter quantity {item}: \"))\n",
        "    total_bill+= price[item] * quantity\n",
        "  else:\n",
        "    print(f'item is not found')\n",
        "print(\"total bill:\", total_bill)\n"
      ],
      "metadata": {
        "colab": {
          "base_uri": "https://localhost:8080/"
        },
        "id": "YvTw3WoqCwrz",
        "outputId": "3c0c69e0-347d-4a67-e5fe-f46b65c43230"
      },
      "execution_count": 12,
      "outputs": [
        {
          "output_type": "stream",
          "name": "stdout",
          "text": [
            "enter the item(comma-separated): apple,pen\n",
            "enter quantity apple: 9\n",
            "enter quantity pen: 7\n",
            "total bill: 216\n"
          ]
        }
      ]
    },
    {
      "cell_type": "code",
      "source": [
        "\n",
        "\n",
        "# Store marks for 5 subjects in a list\n",
        "mark=[int(input(\"enter mark for sub 1 : \")),\n",
        "      int(input(\"enter mark for sub 2 : \")),\n",
        "      int(input(\"enter mark for sub 3 : \")),\n",
        "      int(input(\"enter mark for sub 4 : \")),\n",
        "      int(input(\"enter mark for sub 5 : \"))]\n",
        "# calculate the average\n",
        "average=sum(mark)/len(mark)\n",
        "# determine the grade\n",
        "if average>=90:\n",
        "  grade=\"A\"\n",
        "elif average>=70:\n",
        "  grade=\"B\"\n",
        "elif average>=50:\n",
        "  grade=\"C\"\n",
        "elif average>=35:\n",
        "  grade=\"D\"\n",
        "else:\n",
        "  grade=\"F\"\n",
        "#display the average mark and grade\n",
        "print(\"average : \",average)\n",
        "print(\"grade : \",grade)"
      ],
      "metadata": {
        "colab": {
          "base_uri": "https://localhost:8080/"
        },
        "id": "X5hNZ3uWHV0x",
        "outputId": "48842b75-7084-450b-cf55-e15838d3bbff"
      },
      "execution_count": 6,
      "outputs": [
        {
          "output_type": "stream",
          "name": "stdout",
          "text": [
            "enter mark for sub 1 : 97\n",
            "enter mark for sub 2 : 67\n",
            "enter mark for sub 3 : 56\n",
            "enter mark for sub 4 : 45\n",
            "enter mark for sub 5 : 89\n",
            "average :  70.8\n",
            "grade :  B\n"
          ]
        }
      ]
    },
    {
      "cell_type": "code",
      "source": [
        "#Use a list to store the available seats\n",
        "seats=[1,2,3,4,5,6,7,8,9,10,11,12,12,13,14,15,16,17,18,19,20]\n",
        "seat_no =int(input(\"enter seat_no to book:\" ))\n",
        "print(\"seat_no: \",seats)\n",
        "if seat_no in seats:\n",
        "    seats.remove(seat_no)\n",
        "    print(\"seat is booked sucessfully\")\n",
        "    print(\"remaining seats:  \",seats)\n",
        "else:\n",
        "   print(\"seat is not available\")\n",
        "   print(\"remaining seats: \",seats)\n",
        "\n",
        "\n"
      ],
      "metadata": {
        "colab": {
          "base_uri": "https://localhost:8080/"
        },
        "id": "Q2vQyuSBODBu",
        "outputId": "5693e052-c7f3-4959-c0ec-cacb68669048"
      },
      "execution_count": 17,
      "outputs": [
        {
          "output_type": "stream",
          "name": "stdout",
          "text": [
            "enter seat_no to book:2\n",
            "seat_no:  [1, 2, 3, 4, 5, 6, 7, 8, 9, 10, 11, 12, 12, 13, 14, 15, 16, 17, 18, 19, 20]\n",
            "seat is booked sucessfully\n",
            "remaining seats:   [1, 3, 4, 5, 6, 7, 8, 9, 10, 11, 12, 12, 13, 14, 15, 16, 17, 18, 19, 20]\n"
          ]
        }
      ]
    }
  ]
}